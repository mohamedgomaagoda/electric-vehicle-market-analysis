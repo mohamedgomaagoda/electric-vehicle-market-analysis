{
  "nbformat": 4,
  "nbformat_minor": 0,
  "metadata": {
    "colab": {
      "provenance": [],
      "authorship_tag": "ABX9TyNa9sAiJHjgWFBKB3tJWm5C",
      "include_colab_link": true
    },
    "kernelspec": {
      "name": "python3",
      "display_name": "Python 3"
    },
    "language_info": {
      "name": "python"
    }
  },
  "cells": [
    {
      "cell_type": "markdown",
      "metadata": {
        "id": "view-in-github",
        "colab_type": "text"
      },
      "source": [
        "<a href=\"https://colab.research.google.com/github/mohamedgomaagoda/electric-vehicle-market-analysis/blob/main/electric_vehicle_market_.ipynb\" target=\"_parent\"><img src=\"https://colab.research.google.com/assets/colab-badge.svg\" alt=\"Open In Colab\"/></a>"
      ]
    },
    {
      "cell_type": "code",
      "execution_count": null,
      "metadata": {
        "id": "rs6LisxiPNey"
      },
      "outputs": [],
      "source": [
        "import pandas as pd\n",
        "ev=pd.read_csv(\"C:\\Users\\ALMOHAMDY\\Desktop\\Electric_Vehicle_Population_Data.csv\")"
      ]
    },
    {
      "cell_type": "code",
      "source": [
        "print(ev.head())"
      ],
      "metadata": {
        "id": "-Y-pZjx-URd2"
      },
      "execution_count": null,
      "outputs": []
    },
    {
      "cell_type": "code",
      "source": [
        "ev.info()"
      ],
      "metadata": {
        "id": "G6wNwhpBUVQR"
      },
      "execution_count": null,
      "outputs": []
    },
    {
      "cell_type": "code",
      "source": [
        "ev_data = ev.dropna()"
      ],
      "metadata": {
        "id": "2btkxIXpUYIs"
      },
      "execution_count": null,
      "outputs": []
    },
    {
      "cell_type": "code",
      "source": [
        "import matplotlib.pyplot as plt\n",
        "import seaborn as sns\n",
        "sns.set_style(\"whitegrid\")\n",
        "\n",
        "# EV Adoption Over Time\n",
        "plt.figure(figsize=(12, 6))\n",
        "ev_adoption_by_year = ev_data['Model Year'].value_counts().sort_index()\n",
        "sns.barplot(x=ev_adoption_by_year.index, y=ev_adoption_by_year.values, palette=\"viridis\")\n",
        "plt.title('EV Adoption Over Time')\n",
        "plt.xlabel('Model Year')\n",
        "plt.ylabel('Number of Vehicles Registered')\n",
        "plt.xticks(rotation=45)\n",
        "plt.tight_layout()\n",
        "plt.show()"
      ],
      "metadata": {
        "id": "qcEKYHkgUbDO"
      },
      "execution_count": null,
      "outputs": []
    },
    {
      "cell_type": "code",
      "source": [
        "ev_county_distribution = ev_data['County'].value_counts()\n",
        "top_counties = ev_county_distribution.head(3).index\n",
        "\n",
        "# filtering the dataset for these top counties\n",
        "top_counties_data = ev_data[ev_data['County'].isin(top_counties)]\n",
        "\n",
        "# analyzing the distribution of EVs within the cities of these top counties\n",
        "ev_city_distribution_top_counties = top_counties_data.groupby(['County', 'City']).size().sort_values(ascending=False).reset_index(name='Number of Vehicles')\n",
        "\n",
        "# visualize the top 10 cities across these counties\n",
        "top_cities = ev_city_distribution_top_counties.head(10)\n",
        "\n",
        "plt.figure(figsize=(12, 8))\n",
        "sns.barplot(x='Number of Vehicles', y='City', hue='County', data=top_cities, palette=\"magma\")\n",
        "plt.title('Top Cities in Top Counties by EV Registrations')\n",
        "plt.xlabel('Number of Vehicles Registered')\n",
        "plt.ylabel('City')\n",
        "plt.legend(title='County')\n",
        "plt.tight_layout()\n",
        "plt.show()"
      ],
      "metadata": {
        "id": "m2U9lpBnUefg"
      },
      "execution_count": null,
      "outputs": []
    },
    {
      "cell_type": "code",
      "source": [
        "# analyzing the distribution of electric vehicle Types\n",
        "ev_type_distribution = ev_data['Electric Vehicle Type'].value_counts()\n",
        "\n",
        "plt.figure(figsize=(10, 6))\n",
        "sns.barplot(x=ev_type_distribution.values, y=ev_type_distribution.index, palette=\"rocket\")\n",
        "plt.title('Distribution of Electric Vehicle Types')\n",
        "plt.xlabel('Number of Vehicles Registered')\n",
        "plt.ylabel('Electric Vehicle Type')\n",
        "plt.tight_layout()\n",
        "plt.show()"
      ],
      "metadata": {
        "id": "dNEg8yIDUk02"
      },
      "execution_count": null,
      "outputs": []
    },
    {
      "cell_type": "code",
      "source": [
        "# selecting the top 3 manufacturers based on the number of vehicles registered\n",
        "top_3_makes = ev_make_distribution.head(3).index\n",
        "\n",
        "# filtering the dataset for these top manufacturers\n",
        "top_makes_data = ev_data[ev_data['Make'].isin(top_3_makes)]\n",
        "\n",
        "# analyzing the popularity of EV models within these top manufacturers\n",
        "ev_model_distribution_top_makes = top_makes_data.groupby(['Make', 'Model']).size().sort_values(ascending=False).reset_index(name='Number of Vehicles')\n",
        "\n",
        "# visualizing the top 10 models across these manufacturers for clarity\n",
        "top_models = ev_model_distribution_top_makes.head(10)\n",
        "\n",
        "plt.figure(figsize=(12, 8))\n",
        "sns.barplot(x='Number of Vehicles', y='Model', hue='Make', data=top_models, palette=\"viridis\")\n",
        "plt.title('Top Models in Top 3 Makes by EV Registrations')\n",
        "plt.xlabel('Number of Vehicles Registered')\n",
        "plt.ylabel('Model')\n",
        "plt.legend(title='Make', loc='center right')\n",
        "plt.tight_layout()\n",
        "plt.show()"
      ],
      "metadata": {
        "id": "8iOR-rLIUrRF"
      },
      "execution_count": null,
      "outputs": []
    },
    {
      "cell_type": "code",
      "source": [
        "average_range_by_year = ev_data.groupby('Model Year')['Electric Range'].mean().reset_index()\n",
        "\n",
        "plt.figure(figsize=(12, 6))\n",
        "sns.lineplot(x='Model Year', y='Electric Range', data=average_range_by_year, marker='o', color='green')\n",
        "plt.title('Average Electric Range by Model Year')\n",
        "plt.xlabel('Model Year')\n",
        "plt.ylabel('Average Electric Range (miles)')\n",
        "plt.grid(True)\n",
        "plt.show()"
      ],
      "metadata": {
        "id": "DnEBjs4NVHy9"
      },
      "execution_count": null,
      "outputs": []
    },
    {
      "cell_type": "code",
      "source": [],
      "metadata": {
        "id": "zuWD7R27UxdR"
      },
      "execution_count": null,
      "outputs": []
    }
  ]
}